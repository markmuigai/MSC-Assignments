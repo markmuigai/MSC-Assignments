{
 "cells": [
  {
   "cell_type": "markdown",
   "source": [
    "Import pandas"
   ],
   "metadata": {
    "collapsed": false
   }
  },
  {
   "cell_type": "code",
   "execution_count": 1,
   "outputs": [],
   "source": [
    "import pandas"
   ],
   "metadata": {
    "collapsed": false
   }
  },
  {
   "cell_type": "markdown",
   "source": [
    "Import the credit risk dataset using pandas"
   ],
   "metadata": {
    "collapsed": false
   }
  },
  {
   "cell_type": "code",
   "execution_count": 2,
   "outputs": [
    {
     "data": {
      "text/plain": "       Unnamed: 0  person_age  person_income person_home_ownership  \\\n0           30786          41          40000                  RENT   \n1           29460          44          28000                   OWN   \n2            7059          22          56000                  RENT   \n3            5377          24          45000              MORTGAGE   \n4           27170          28          55000                  RENT   \n...           ...         ...            ...                   ...   \n24430        9887          23          45000                  RENT   \n24431       15196          26         125000              MORTGAGE   \n24432       32218          43         138000              MORTGAGE   \n24433       25398          27          84780              MORTGAGE   \n24434       28690          31          95000                  RENT   \n\n       person_emp_length        loan_intent loan_grade  loan_amnt  \\\n0                    3.0           PERSONAL          A       9200   \n1                    0.0            VENTURE          A       3500   \n2                    0.0  DEBTCONSOLIDATION          B       7000   \n3                    2.0           PERSONAL          A       7200   \n4                    3.0    HOMEIMPROVEMENT          E      15000   \n...                  ...                ...        ...        ...   \n24430                7.0          EDUCATION          B       9000   \n24431                3.0          EDUCATION          D      24000   \n24432                4.0          EDUCATION          A       9900   \n24433                5.0            VENTURE          A      18000   \n24434                2.0          EDUCATION          C       2500   \n\n       loan_int_rate  loan_status  loan_percent_income  \\\n0               7.49            0                 0.23   \n1               8.94            0                 0.13   \n2              11.36            0                 0.13   \n3               7.29            0                 0.16   \n4              17.06            0                 0.27   \n...              ...          ...                  ...   \n24430          10.65            0                 0.20   \n24431          15.28            0                 0.19   \n24432           6.99            0                 0.07   \n24433           7.51            0                 0.21   \n24434          13.72            0                 0.03   \n\n      cb_person_default_on_file  cb_person_cred_hist_length  \n0                             N                          13  \n1                             N                          12  \n2                             N                           2  \n3                             N                           4  \n4                             Y                           5  \n...                         ...                         ...  \n24430                         N                           2  \n24431                         Y                           4  \n24432                         N                          14  \n24433                         N                          10  \n24434                         Y                          10  \n\n[24435 rows x 13 columns]",
      "text/html": "<div>\n<style scoped>\n    .dataframe tbody tr th:only-of-type {\n        vertical-align: middle;\n    }\n\n    .dataframe tbody tr th {\n        vertical-align: top;\n    }\n\n    .dataframe thead th {\n        text-align: right;\n    }\n</style>\n<table border=\"1\" class=\"dataframe\">\n  <thead>\n    <tr style=\"text-align: right;\">\n      <th></th>\n      <th>Unnamed: 0</th>\n      <th>person_age</th>\n      <th>person_income</th>\n      <th>person_home_ownership</th>\n      <th>person_emp_length</th>\n      <th>loan_intent</th>\n      <th>loan_grade</th>\n      <th>loan_amnt</th>\n      <th>loan_int_rate</th>\n      <th>loan_status</th>\n      <th>loan_percent_income</th>\n      <th>cb_person_default_on_file</th>\n      <th>cb_person_cred_hist_length</th>\n    </tr>\n  </thead>\n  <tbody>\n    <tr>\n      <th>0</th>\n      <td>30786</td>\n      <td>41</td>\n      <td>40000</td>\n      <td>RENT</td>\n      <td>3.0</td>\n      <td>PERSONAL</td>\n      <td>A</td>\n      <td>9200</td>\n      <td>7.49</td>\n      <td>0</td>\n      <td>0.23</td>\n      <td>N</td>\n      <td>13</td>\n    </tr>\n    <tr>\n      <th>1</th>\n      <td>29460</td>\n      <td>44</td>\n      <td>28000</td>\n      <td>OWN</td>\n      <td>0.0</td>\n      <td>VENTURE</td>\n      <td>A</td>\n      <td>3500</td>\n      <td>8.94</td>\n      <td>0</td>\n      <td>0.13</td>\n      <td>N</td>\n      <td>12</td>\n    </tr>\n    <tr>\n      <th>2</th>\n      <td>7059</td>\n      <td>22</td>\n      <td>56000</td>\n      <td>RENT</td>\n      <td>0.0</td>\n      <td>DEBTCONSOLIDATION</td>\n      <td>B</td>\n      <td>7000</td>\n      <td>11.36</td>\n      <td>0</td>\n      <td>0.13</td>\n      <td>N</td>\n      <td>2</td>\n    </tr>\n    <tr>\n      <th>3</th>\n      <td>5377</td>\n      <td>24</td>\n      <td>45000</td>\n      <td>MORTGAGE</td>\n      <td>2.0</td>\n      <td>PERSONAL</td>\n      <td>A</td>\n      <td>7200</td>\n      <td>7.29</td>\n      <td>0</td>\n      <td>0.16</td>\n      <td>N</td>\n      <td>4</td>\n    </tr>\n    <tr>\n      <th>4</th>\n      <td>27170</td>\n      <td>28</td>\n      <td>55000</td>\n      <td>RENT</td>\n      <td>3.0</td>\n      <td>HOMEIMPROVEMENT</td>\n      <td>E</td>\n      <td>15000</td>\n      <td>17.06</td>\n      <td>0</td>\n      <td>0.27</td>\n      <td>Y</td>\n      <td>5</td>\n    </tr>\n    <tr>\n      <th>...</th>\n      <td>...</td>\n      <td>...</td>\n      <td>...</td>\n      <td>...</td>\n      <td>...</td>\n      <td>...</td>\n      <td>...</td>\n      <td>...</td>\n      <td>...</td>\n      <td>...</td>\n      <td>...</td>\n      <td>...</td>\n      <td>...</td>\n    </tr>\n    <tr>\n      <th>24430</th>\n      <td>9887</td>\n      <td>23</td>\n      <td>45000</td>\n      <td>RENT</td>\n      <td>7.0</td>\n      <td>EDUCATION</td>\n      <td>B</td>\n      <td>9000</td>\n      <td>10.65</td>\n      <td>0</td>\n      <td>0.20</td>\n      <td>N</td>\n      <td>2</td>\n    </tr>\n    <tr>\n      <th>24431</th>\n      <td>15196</td>\n      <td>26</td>\n      <td>125000</td>\n      <td>MORTGAGE</td>\n      <td>3.0</td>\n      <td>EDUCATION</td>\n      <td>D</td>\n      <td>24000</td>\n      <td>15.28</td>\n      <td>0</td>\n      <td>0.19</td>\n      <td>Y</td>\n      <td>4</td>\n    </tr>\n    <tr>\n      <th>24432</th>\n      <td>32218</td>\n      <td>43</td>\n      <td>138000</td>\n      <td>MORTGAGE</td>\n      <td>4.0</td>\n      <td>EDUCATION</td>\n      <td>A</td>\n      <td>9900</td>\n      <td>6.99</td>\n      <td>0</td>\n      <td>0.07</td>\n      <td>N</td>\n      <td>14</td>\n    </tr>\n    <tr>\n      <th>24433</th>\n      <td>25398</td>\n      <td>27</td>\n      <td>84780</td>\n      <td>MORTGAGE</td>\n      <td>5.0</td>\n      <td>VENTURE</td>\n      <td>A</td>\n      <td>18000</td>\n      <td>7.51</td>\n      <td>0</td>\n      <td>0.21</td>\n      <td>N</td>\n      <td>10</td>\n    </tr>\n    <tr>\n      <th>24434</th>\n      <td>28690</td>\n      <td>31</td>\n      <td>95000</td>\n      <td>RENT</td>\n      <td>2.0</td>\n      <td>EDUCATION</td>\n      <td>C</td>\n      <td>2500</td>\n      <td>13.72</td>\n      <td>0</td>\n      <td>0.03</td>\n      <td>Y</td>\n      <td>10</td>\n    </tr>\n  </tbody>\n</table>\n<p>24435 rows × 13 columns</p>\n</div>"
     },
     "execution_count": 2,
     "metadata": {},
     "output_type": "execute_result"
    }
   ],
   "source": [
    "crypto_dataset = pandas.read_csv('credit_risk_dataset.csv')\n",
    "crypto_dataset"
   ],
   "metadata": {
    "collapsed": false
   }
  }
 ],
 "metadata": {
  "kernelspec": {
   "name": "conda-root-py",
   "language": "python",
   "display_name": "Python [conda env:root] *"
  },
  "language_info": {
   "codemirror_mode": {
    "name": "ipython",
    "version": 2
   },
   "file_extension": ".py",
   "mimetype": "text/x-python",
   "name": "python",
   "nbconvert_exporter": "python",
   "pygments_lexer": "ipython2",
   "version": "2.7.6"
  }
 },
 "nbformat": 4,
 "nbformat_minor": 0
}
