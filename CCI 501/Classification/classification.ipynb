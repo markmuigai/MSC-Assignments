{
 "cells": [
  {
   "cell_type": "markdown",
   "source": [
    "We will begin by importing the relevant packages i.e., Pandas, Sklearn Packages"
   ],
   "metadata": {
    "collapsed": false
   }
  },
  {
   "cell_type": "code",
   "execution_count": 976,
   "outputs": [],
   "source": [
    "%matplotlib inline\n",
    "\n",
    "import pandas as pd\n",
    "import numpy as np\n",
    "from scipy import stats\n",
    "from sklearn.model_selection import train_test_split\n",
    "from sklearn.naive_bayes import MultinomialNB, GaussianNB\n",
    "from sklearn.neighbors import KNeighborsClassifier\n",
    "from sklearn.tree import DecisionTreeClassifier\n",
    "from sklearn.preprocessing import MinMaxScaler\n",
    "from sklearn.metrics import classification_report, confusion_matrix\n",
    "from sklearn import metrics"
   ],
   "metadata": {
    "collapsed": false
   }
  },
  {
   "cell_type": "markdown",
   "source": [
    "We will then import the credit risk dataset using pandas"
   ],
   "metadata": {
    "collapsed": false
   }
  },
  {
   "cell_type": "code",
   "execution_count": 977,
   "outputs": [
    {
     "data": {
      "text/plain": "       Unnamed: 0  person_age  person_income person_home_ownership  \\\n0           30786          41          40000                  RENT   \n1           29460          44          28000                   OWN   \n2            7059          22          56000                  RENT   \n3            5377          24          45000              MORTGAGE   \n4           27170          28          55000                  RENT   \n...           ...         ...            ...                   ...   \n24430        9887          23          45000                  RENT   \n24431       15196          26         125000              MORTGAGE   \n24432       32218          43         138000              MORTGAGE   \n24433       25398          27          84780              MORTGAGE   \n24434       28690          31          95000                  RENT   \n\n       person_emp_length        loan_intent loan_grade  loan_amnt  \\\n0                    3.0           PERSONAL          A       9200   \n1                    0.0            VENTURE          A       3500   \n2                    0.0  DEBTCONSOLIDATION          B       7000   \n3                    2.0           PERSONAL          A       7200   \n4                    3.0    HOMEIMPROVEMENT          E      15000   \n...                  ...                ...        ...        ...   \n24430                7.0          EDUCATION          B       9000   \n24431                3.0          EDUCATION          D      24000   \n24432                4.0          EDUCATION          A       9900   \n24433                5.0            VENTURE          A      18000   \n24434                2.0          EDUCATION          C       2500   \n\n       loan_int_rate  loan_status  loan_percent_income  \\\n0               7.49            0                 0.23   \n1               8.94            0                 0.13   \n2              11.36            0                 0.13   \n3               7.29            0                 0.16   \n4              17.06            0                 0.27   \n...              ...          ...                  ...   \n24430          10.65            0                 0.20   \n24431          15.28            0                 0.19   \n24432           6.99            0                 0.07   \n24433           7.51            0                 0.21   \n24434          13.72            0                 0.03   \n\n      cb_person_default_on_file  cb_person_cred_hist_length  \n0                             N                          13  \n1                             N                          12  \n2                             N                           2  \n3                             N                           4  \n4                             Y                           5  \n...                         ...                         ...  \n24430                         N                           2  \n24431                         Y                           4  \n24432                         N                          14  \n24433                         N                          10  \n24434                         Y                          10  \n\n[24435 rows x 13 columns]",
      "text/html": "<div>\n<style scoped>\n    .dataframe tbody tr th:only-of-type {\n        vertical-align: middle;\n    }\n\n    .dataframe tbody tr th {\n        vertical-align: top;\n    }\n\n    .dataframe thead th {\n        text-align: right;\n    }\n</style>\n<table border=\"1\" class=\"dataframe\">\n  <thead>\n    <tr style=\"text-align: right;\">\n      <th></th>\n      <th>Unnamed: 0</th>\n      <th>person_age</th>\n      <th>person_income</th>\n      <th>person_home_ownership</th>\n      <th>person_emp_length</th>\n      <th>loan_intent</th>\n      <th>loan_grade</th>\n      <th>loan_amnt</th>\n      <th>loan_int_rate</th>\n      <th>loan_status</th>\n      <th>loan_percent_income</th>\n      <th>cb_person_default_on_file</th>\n      <th>cb_person_cred_hist_length</th>\n    </tr>\n  </thead>\n  <tbody>\n    <tr>\n      <th>0</th>\n      <td>30786</td>\n      <td>41</td>\n      <td>40000</td>\n      <td>RENT</td>\n      <td>3.0</td>\n      <td>PERSONAL</td>\n      <td>A</td>\n      <td>9200</td>\n      <td>7.49</td>\n      <td>0</td>\n      <td>0.23</td>\n      <td>N</td>\n      <td>13</td>\n    </tr>\n    <tr>\n      <th>1</th>\n      <td>29460</td>\n      <td>44</td>\n      <td>28000</td>\n      <td>OWN</td>\n      <td>0.0</td>\n      <td>VENTURE</td>\n      <td>A</td>\n      <td>3500</td>\n      <td>8.94</td>\n      <td>0</td>\n      <td>0.13</td>\n      <td>N</td>\n      <td>12</td>\n    </tr>\n    <tr>\n      <th>2</th>\n      <td>7059</td>\n      <td>22</td>\n      <td>56000</td>\n      <td>RENT</td>\n      <td>0.0</td>\n      <td>DEBTCONSOLIDATION</td>\n      <td>B</td>\n      <td>7000</td>\n      <td>11.36</td>\n      <td>0</td>\n      <td>0.13</td>\n      <td>N</td>\n      <td>2</td>\n    </tr>\n    <tr>\n      <th>3</th>\n      <td>5377</td>\n      <td>24</td>\n      <td>45000</td>\n      <td>MORTGAGE</td>\n      <td>2.0</td>\n      <td>PERSONAL</td>\n      <td>A</td>\n      <td>7200</td>\n      <td>7.29</td>\n      <td>0</td>\n      <td>0.16</td>\n      <td>N</td>\n      <td>4</td>\n    </tr>\n    <tr>\n      <th>4</th>\n      <td>27170</td>\n      <td>28</td>\n      <td>55000</td>\n      <td>RENT</td>\n      <td>3.0</td>\n      <td>HOMEIMPROVEMENT</td>\n      <td>E</td>\n      <td>15000</td>\n      <td>17.06</td>\n      <td>0</td>\n      <td>0.27</td>\n      <td>Y</td>\n      <td>5</td>\n    </tr>\n    <tr>\n      <th>...</th>\n      <td>...</td>\n      <td>...</td>\n      <td>...</td>\n      <td>...</td>\n      <td>...</td>\n      <td>...</td>\n      <td>...</td>\n      <td>...</td>\n      <td>...</td>\n      <td>...</td>\n      <td>...</td>\n      <td>...</td>\n      <td>...</td>\n    </tr>\n    <tr>\n      <th>24430</th>\n      <td>9887</td>\n      <td>23</td>\n      <td>45000</td>\n      <td>RENT</td>\n      <td>7.0</td>\n      <td>EDUCATION</td>\n      <td>B</td>\n      <td>9000</td>\n      <td>10.65</td>\n      <td>0</td>\n      <td>0.20</td>\n      <td>N</td>\n      <td>2</td>\n    </tr>\n    <tr>\n      <th>24431</th>\n      <td>15196</td>\n      <td>26</td>\n      <td>125000</td>\n      <td>MORTGAGE</td>\n      <td>3.0</td>\n      <td>EDUCATION</td>\n      <td>D</td>\n      <td>24000</td>\n      <td>15.28</td>\n      <td>0</td>\n      <td>0.19</td>\n      <td>Y</td>\n      <td>4</td>\n    </tr>\n    <tr>\n      <th>24432</th>\n      <td>32218</td>\n      <td>43</td>\n      <td>138000</td>\n      <td>MORTGAGE</td>\n      <td>4.0</td>\n      <td>EDUCATION</td>\n      <td>A</td>\n      <td>9900</td>\n      <td>6.99</td>\n      <td>0</td>\n      <td>0.07</td>\n      <td>N</td>\n      <td>14</td>\n    </tr>\n    <tr>\n      <th>24433</th>\n      <td>25398</td>\n      <td>27</td>\n      <td>84780</td>\n      <td>MORTGAGE</td>\n      <td>5.0</td>\n      <td>VENTURE</td>\n      <td>A</td>\n      <td>18000</td>\n      <td>7.51</td>\n      <td>0</td>\n      <td>0.21</td>\n      <td>N</td>\n      <td>10</td>\n    </tr>\n    <tr>\n      <th>24434</th>\n      <td>28690</td>\n      <td>31</td>\n      <td>95000</td>\n      <td>RENT</td>\n      <td>2.0</td>\n      <td>EDUCATION</td>\n      <td>C</td>\n      <td>2500</td>\n      <td>13.72</td>\n      <td>0</td>\n      <td>0.03</td>\n      <td>Y</td>\n      <td>10</td>\n    </tr>\n  </tbody>\n</table>\n<p>24435 rows × 13 columns</p>\n</div>"
     },
     "execution_count": 977,
     "metadata": {},
     "output_type": "execute_result"
    }
   ],
   "source": [
    "original_dataset = pd.read_csv('credit_risk_dataset.csv')\n",
    "original_dataset"
   ],
   "metadata": {
    "collapsed": false
   }
  },
  {
   "cell_type": "markdown",
   "source": [
    "# Data Pre-processing\n",
    "There are some empty cells on the person_emp_length and loan_int_rate.\n",
    "Perform data cleaning to replacing empty fields with the mean of the columns\n",
    "Drop the unnamed column"
   ],
   "metadata": {
    "collapsed": false
   }
  },
  {
   "cell_type": "code",
   "execution_count": 978,
   "outputs": [
    {
     "name": "stdout",
     "output_type": "stream",
     "text": [
      "'person_emp_length' mean:4.778072167549836, 'loan_int_rate' mean:11.006376791932013\n"
     ]
    },
    {
     "data": {
      "text/plain": "       person_age  person_income person_home_ownership  person_emp_length  \\\n0              41          40000                  RENT                3.0   \n1              44          28000                   OWN                0.0   \n2              22          56000                  RENT                0.0   \n3              24          45000              MORTGAGE                2.0   \n4              28          55000                  RENT                3.0   \n...           ...            ...                   ...                ...   \n24430          23          45000                  RENT                7.0   \n24431          26         125000              MORTGAGE                3.0   \n24432          43         138000              MORTGAGE                4.0   \n24433          27          84780              MORTGAGE                5.0   \n24434          31          95000                  RENT                2.0   \n\n             loan_intent loan_grade  loan_amnt  loan_int_rate  loan_status  \\\n0               PERSONAL          A       9200           7.49            0   \n1                VENTURE          A       3500           8.94            0   \n2      DEBTCONSOLIDATION          B       7000          11.36            0   \n3               PERSONAL          A       7200           7.29            0   \n4        HOMEIMPROVEMENT          E      15000          17.06            0   \n...                  ...        ...        ...            ...          ...   \n24430          EDUCATION          B       9000          10.65            0   \n24431          EDUCATION          D      24000          15.28            0   \n24432          EDUCATION          A       9900           6.99            0   \n24433            VENTURE          A      18000           7.51            0   \n24434          EDUCATION          C       2500          13.72            0   \n\n       loan_percent_income cb_person_default_on_file  \\\n0                     0.23                         N   \n1                     0.13                         N   \n2                     0.13                         N   \n3                     0.16                         N   \n4                     0.27                         Y   \n...                    ...                       ...   \n24430                 0.20                         N   \n24431                 0.19                         Y   \n24432                 0.07                         N   \n24433                 0.21                         N   \n24434                 0.03                         Y   \n\n       cb_person_cred_hist_length  \n0                              13  \n1                              12  \n2                               2  \n3                               4  \n4                               5  \n...                           ...  \n24430                           2  \n24431                           4  \n24432                          14  \n24433                          10  \n24434                          10  \n\n[24435 rows x 12 columns]",
      "text/html": "<div>\n<style scoped>\n    .dataframe tbody tr th:only-of-type {\n        vertical-align: middle;\n    }\n\n    .dataframe tbody tr th {\n        vertical-align: top;\n    }\n\n    .dataframe thead th {\n        text-align: right;\n    }\n</style>\n<table border=\"1\" class=\"dataframe\">\n  <thead>\n    <tr style=\"text-align: right;\">\n      <th></th>\n      <th>person_age</th>\n      <th>person_income</th>\n      <th>person_home_ownership</th>\n      <th>person_emp_length</th>\n      <th>loan_intent</th>\n      <th>loan_grade</th>\n      <th>loan_amnt</th>\n      <th>loan_int_rate</th>\n      <th>loan_status</th>\n      <th>loan_percent_income</th>\n      <th>cb_person_default_on_file</th>\n      <th>cb_person_cred_hist_length</th>\n    </tr>\n  </thead>\n  <tbody>\n    <tr>\n      <th>0</th>\n      <td>41</td>\n      <td>40000</td>\n      <td>RENT</td>\n      <td>3.0</td>\n      <td>PERSONAL</td>\n      <td>A</td>\n      <td>9200</td>\n      <td>7.49</td>\n      <td>0</td>\n      <td>0.23</td>\n      <td>N</td>\n      <td>13</td>\n    </tr>\n    <tr>\n      <th>1</th>\n      <td>44</td>\n      <td>28000</td>\n      <td>OWN</td>\n      <td>0.0</td>\n      <td>VENTURE</td>\n      <td>A</td>\n      <td>3500</td>\n      <td>8.94</td>\n      <td>0</td>\n      <td>0.13</td>\n      <td>N</td>\n      <td>12</td>\n    </tr>\n    <tr>\n      <th>2</th>\n      <td>22</td>\n      <td>56000</td>\n      <td>RENT</td>\n      <td>0.0</td>\n      <td>DEBTCONSOLIDATION</td>\n      <td>B</td>\n      <td>7000</td>\n      <td>11.36</td>\n      <td>0</td>\n      <td>0.13</td>\n      <td>N</td>\n      <td>2</td>\n    </tr>\n    <tr>\n      <th>3</th>\n      <td>24</td>\n      <td>45000</td>\n      <td>MORTGAGE</td>\n      <td>2.0</td>\n      <td>PERSONAL</td>\n      <td>A</td>\n      <td>7200</td>\n      <td>7.29</td>\n      <td>0</td>\n      <td>0.16</td>\n      <td>N</td>\n      <td>4</td>\n    </tr>\n    <tr>\n      <th>4</th>\n      <td>28</td>\n      <td>55000</td>\n      <td>RENT</td>\n      <td>3.0</td>\n      <td>HOMEIMPROVEMENT</td>\n      <td>E</td>\n      <td>15000</td>\n      <td>17.06</td>\n      <td>0</td>\n      <td>0.27</td>\n      <td>Y</td>\n      <td>5</td>\n    </tr>\n    <tr>\n      <th>...</th>\n      <td>...</td>\n      <td>...</td>\n      <td>...</td>\n      <td>...</td>\n      <td>...</td>\n      <td>...</td>\n      <td>...</td>\n      <td>...</td>\n      <td>...</td>\n      <td>...</td>\n      <td>...</td>\n      <td>...</td>\n    </tr>\n    <tr>\n      <th>24430</th>\n      <td>23</td>\n      <td>45000</td>\n      <td>RENT</td>\n      <td>7.0</td>\n      <td>EDUCATION</td>\n      <td>B</td>\n      <td>9000</td>\n      <td>10.65</td>\n      <td>0</td>\n      <td>0.20</td>\n      <td>N</td>\n      <td>2</td>\n    </tr>\n    <tr>\n      <th>24431</th>\n      <td>26</td>\n      <td>125000</td>\n      <td>MORTGAGE</td>\n      <td>3.0</td>\n      <td>EDUCATION</td>\n      <td>D</td>\n      <td>24000</td>\n      <td>15.28</td>\n      <td>0</td>\n      <td>0.19</td>\n      <td>Y</td>\n      <td>4</td>\n    </tr>\n    <tr>\n      <th>24432</th>\n      <td>43</td>\n      <td>138000</td>\n      <td>MORTGAGE</td>\n      <td>4.0</td>\n      <td>EDUCATION</td>\n      <td>A</td>\n      <td>9900</td>\n      <td>6.99</td>\n      <td>0</td>\n      <td>0.07</td>\n      <td>N</td>\n      <td>14</td>\n    </tr>\n    <tr>\n      <th>24433</th>\n      <td>27</td>\n      <td>84780</td>\n      <td>MORTGAGE</td>\n      <td>5.0</td>\n      <td>VENTURE</td>\n      <td>A</td>\n      <td>18000</td>\n      <td>7.51</td>\n      <td>0</td>\n      <td>0.21</td>\n      <td>N</td>\n      <td>10</td>\n    </tr>\n    <tr>\n      <th>24434</th>\n      <td>31</td>\n      <td>95000</td>\n      <td>RENT</td>\n      <td>2.0</td>\n      <td>EDUCATION</td>\n      <td>C</td>\n      <td>2500</td>\n      <td>13.72</td>\n      <td>0</td>\n      <td>0.03</td>\n      <td>Y</td>\n      <td>10</td>\n    </tr>\n  </tbody>\n</table>\n<p>24435 rows × 12 columns</p>\n</div>"
     },
     "execution_count": 978,
     "metadata": {},
     "output_type": "execute_result"
    }
   ],
   "source": [
    "dataset = original_dataset.copy()\n",
    "person_emp_length_mean = dataset[\"person_emp_length\"].mean()\n",
    "loan_int_rate_mean = dataset[\"loan_int_rate\"].mean()\n",
    "\n",
    "print(\"'person_emp_length' mean:\" + str(person_emp_length_mean) + \", 'loan_int_rate' mean:\" + str(loan_int_rate_mean))\n",
    "\n",
    "dataset[\"person_emp_length\"].fillna(person_emp_length_mean, inplace=True)\n",
    "dataset[\"loan_int_rate\"].fillna(loan_int_rate_mean, inplace=True)\n",
    "\n",
    "dataset.drop(dataset.columns[dataset.columns.str.contains('unnamed', case=False)], axis=1, inplace=True)\n",
    "dataset"
   ],
   "metadata": {
    "collapsed": false
   }
  },
  {
   "cell_type": "markdown",
   "source": [
    "There exists several fields with categorical values. We are going to encoding of categorical values."
   ],
   "metadata": {
    "collapsed": false
   }
  },
  {
   "cell_type": "code",
   "execution_count": 979,
   "outputs": [
    {
     "data": {
      "text/plain": "       person_age  person_income  person_emp_length  loan_amnt  loan_int_rate  \\\n0              41          40000                3.0       9200           7.49   \n1              44          28000                0.0       3500           8.94   \n2              22          56000                0.0       7000          11.36   \n3              24          45000                2.0       7200           7.29   \n4              28          55000                3.0      15000          17.06   \n...           ...            ...                ...        ...            ...   \n24430          23          45000                7.0       9000          10.65   \n24431          26         125000                3.0      24000          15.28   \n24432          43         138000                4.0       9900           6.99   \n24433          27          84780                5.0      18000           7.51   \n24434          31          95000                2.0       2500          13.72   \n\n       loan_status  loan_percent_income  cb_person_default_on_file  \\\n0                0                 0.23                          0   \n1                0                 0.13                          0   \n2                0                 0.13                          0   \n3                0                 0.16                          0   \n4                0                 0.27                          1   \n...            ...                  ...                        ...   \n24430            0                 0.20                          0   \n24431            0                 0.19                          1   \n24432            0                 0.07                          0   \n24433            0                 0.21                          0   \n24434            0                 0.03                          1   \n\n       cb_person_cred_hist_length  person_home_ownership_MORTGAGE  ...  \\\n0                              13                               0  ...   \n1                              12                               0  ...   \n2                               2                               0  ...   \n3                               4                               1  ...   \n4                               5                               0  ...   \n...                           ...                             ...  ...   \n24430                           2                               0  ...   \n24431                           4                               1  ...   \n24432                          14                               1  ...   \n24433                          10                               1  ...   \n24434                          10                               0  ...   \n\n       loan_intent_MEDICAL  loan_intent_PERSONAL  loan_intent_VENTURE  \\\n0                        0                     1                    0   \n1                        0                     0                    1   \n2                        0                     0                    0   \n3                        0                     1                    0   \n4                        0                     0                    0   \n...                    ...                   ...                  ...   \n24430                    0                     0                    0   \n24431                    0                     0                    0   \n24432                    0                     0                    0   \n24433                    0                     0                    1   \n24434                    0                     0                    0   \n\n       loan_grade_A  loan_grade_B  loan_grade_C  loan_grade_D  loan_grade_E  \\\n0                 1             0             0             0             0   \n1                 1             0             0             0             0   \n2                 0             1             0             0             0   \n3                 1             0             0             0             0   \n4                 0             0             0             0             1   \n...             ...           ...           ...           ...           ...   \n24430             0             1             0             0             0   \n24431             0             0             0             1             0   \n24432             1             0             0             0             0   \n24433             1             0             0             0             0   \n24434             0             0             1             0             0   \n\n       loan_grade_F  loan_grade_G  \n0                 0             0  \n1                 0             0  \n2                 0             0  \n3                 0             0  \n4                 0             0  \n...             ...           ...  \n24430             0             0  \n24431             0             0  \n24432             0             0  \n24433             0             0  \n24434             0             0  \n\n[24435 rows x 26 columns]",
      "text/html": "<div>\n<style scoped>\n    .dataframe tbody tr th:only-of-type {\n        vertical-align: middle;\n    }\n\n    .dataframe tbody tr th {\n        vertical-align: top;\n    }\n\n    .dataframe thead th {\n        text-align: right;\n    }\n</style>\n<table border=\"1\" class=\"dataframe\">\n  <thead>\n    <tr style=\"text-align: right;\">\n      <th></th>\n      <th>person_age</th>\n      <th>person_income</th>\n      <th>person_emp_length</th>\n      <th>loan_amnt</th>\n      <th>loan_int_rate</th>\n      <th>loan_status</th>\n      <th>loan_percent_income</th>\n      <th>cb_person_default_on_file</th>\n      <th>cb_person_cred_hist_length</th>\n      <th>person_home_ownership_MORTGAGE</th>\n      <th>...</th>\n      <th>loan_intent_MEDICAL</th>\n      <th>loan_intent_PERSONAL</th>\n      <th>loan_intent_VENTURE</th>\n      <th>loan_grade_A</th>\n      <th>loan_grade_B</th>\n      <th>loan_grade_C</th>\n      <th>loan_grade_D</th>\n      <th>loan_grade_E</th>\n      <th>loan_grade_F</th>\n      <th>loan_grade_G</th>\n    </tr>\n  </thead>\n  <tbody>\n    <tr>\n      <th>0</th>\n      <td>41</td>\n      <td>40000</td>\n      <td>3.0</td>\n      <td>9200</td>\n      <td>7.49</td>\n      <td>0</td>\n      <td>0.23</td>\n      <td>0</td>\n      <td>13</td>\n      <td>0</td>\n      <td>...</td>\n      <td>0</td>\n      <td>1</td>\n      <td>0</td>\n      <td>1</td>\n      <td>0</td>\n      <td>0</td>\n      <td>0</td>\n      <td>0</td>\n      <td>0</td>\n      <td>0</td>\n    </tr>\n    <tr>\n      <th>1</th>\n      <td>44</td>\n      <td>28000</td>\n      <td>0.0</td>\n      <td>3500</td>\n      <td>8.94</td>\n      <td>0</td>\n      <td>0.13</td>\n      <td>0</td>\n      <td>12</td>\n      <td>0</td>\n      <td>...</td>\n      <td>0</td>\n      <td>0</td>\n      <td>1</td>\n      <td>1</td>\n      <td>0</td>\n      <td>0</td>\n      <td>0</td>\n      <td>0</td>\n      <td>0</td>\n      <td>0</td>\n    </tr>\n    <tr>\n      <th>2</th>\n      <td>22</td>\n      <td>56000</td>\n      <td>0.0</td>\n      <td>7000</td>\n      <td>11.36</td>\n      <td>0</td>\n      <td>0.13</td>\n      <td>0</td>\n      <td>2</td>\n      <td>0</td>\n      <td>...</td>\n      <td>0</td>\n      <td>0</td>\n      <td>0</td>\n      <td>0</td>\n      <td>1</td>\n      <td>0</td>\n      <td>0</td>\n      <td>0</td>\n      <td>0</td>\n      <td>0</td>\n    </tr>\n    <tr>\n      <th>3</th>\n      <td>24</td>\n      <td>45000</td>\n      <td>2.0</td>\n      <td>7200</td>\n      <td>7.29</td>\n      <td>0</td>\n      <td>0.16</td>\n      <td>0</td>\n      <td>4</td>\n      <td>1</td>\n      <td>...</td>\n      <td>0</td>\n      <td>1</td>\n      <td>0</td>\n      <td>1</td>\n      <td>0</td>\n      <td>0</td>\n      <td>0</td>\n      <td>0</td>\n      <td>0</td>\n      <td>0</td>\n    </tr>\n    <tr>\n      <th>4</th>\n      <td>28</td>\n      <td>55000</td>\n      <td>3.0</td>\n      <td>15000</td>\n      <td>17.06</td>\n      <td>0</td>\n      <td>0.27</td>\n      <td>1</td>\n      <td>5</td>\n      <td>0</td>\n      <td>...</td>\n      <td>0</td>\n      <td>0</td>\n      <td>0</td>\n      <td>0</td>\n      <td>0</td>\n      <td>0</td>\n      <td>0</td>\n      <td>1</td>\n      <td>0</td>\n      <td>0</td>\n    </tr>\n    <tr>\n      <th>...</th>\n      <td>...</td>\n      <td>...</td>\n      <td>...</td>\n      <td>...</td>\n      <td>...</td>\n      <td>...</td>\n      <td>...</td>\n      <td>...</td>\n      <td>...</td>\n      <td>...</td>\n      <td>...</td>\n      <td>...</td>\n      <td>...</td>\n      <td>...</td>\n      <td>...</td>\n      <td>...</td>\n      <td>...</td>\n      <td>...</td>\n      <td>...</td>\n      <td>...</td>\n      <td>...</td>\n    </tr>\n    <tr>\n      <th>24430</th>\n      <td>23</td>\n      <td>45000</td>\n      <td>7.0</td>\n      <td>9000</td>\n      <td>10.65</td>\n      <td>0</td>\n      <td>0.20</td>\n      <td>0</td>\n      <td>2</td>\n      <td>0</td>\n      <td>...</td>\n      <td>0</td>\n      <td>0</td>\n      <td>0</td>\n      <td>0</td>\n      <td>1</td>\n      <td>0</td>\n      <td>0</td>\n      <td>0</td>\n      <td>0</td>\n      <td>0</td>\n    </tr>\n    <tr>\n      <th>24431</th>\n      <td>26</td>\n      <td>125000</td>\n      <td>3.0</td>\n      <td>24000</td>\n      <td>15.28</td>\n      <td>0</td>\n      <td>0.19</td>\n      <td>1</td>\n      <td>4</td>\n      <td>1</td>\n      <td>...</td>\n      <td>0</td>\n      <td>0</td>\n      <td>0</td>\n      <td>0</td>\n      <td>0</td>\n      <td>0</td>\n      <td>1</td>\n      <td>0</td>\n      <td>0</td>\n      <td>0</td>\n    </tr>\n    <tr>\n      <th>24432</th>\n      <td>43</td>\n      <td>138000</td>\n      <td>4.0</td>\n      <td>9900</td>\n      <td>6.99</td>\n      <td>0</td>\n      <td>0.07</td>\n      <td>0</td>\n      <td>14</td>\n      <td>1</td>\n      <td>...</td>\n      <td>0</td>\n      <td>0</td>\n      <td>0</td>\n      <td>1</td>\n      <td>0</td>\n      <td>0</td>\n      <td>0</td>\n      <td>0</td>\n      <td>0</td>\n      <td>0</td>\n    </tr>\n    <tr>\n      <th>24433</th>\n      <td>27</td>\n      <td>84780</td>\n      <td>5.0</td>\n      <td>18000</td>\n      <td>7.51</td>\n      <td>0</td>\n      <td>0.21</td>\n      <td>0</td>\n      <td>10</td>\n      <td>1</td>\n      <td>...</td>\n      <td>0</td>\n      <td>0</td>\n      <td>1</td>\n      <td>1</td>\n      <td>0</td>\n      <td>0</td>\n      <td>0</td>\n      <td>0</td>\n      <td>0</td>\n      <td>0</td>\n    </tr>\n    <tr>\n      <th>24434</th>\n      <td>31</td>\n      <td>95000</td>\n      <td>2.0</td>\n      <td>2500</td>\n      <td>13.72</td>\n      <td>0</td>\n      <td>0.03</td>\n      <td>1</td>\n      <td>10</td>\n      <td>0</td>\n      <td>...</td>\n      <td>0</td>\n      <td>0</td>\n      <td>0</td>\n      <td>0</td>\n      <td>0</td>\n      <td>1</td>\n      <td>0</td>\n      <td>0</td>\n      <td>0</td>\n      <td>0</td>\n    </tr>\n  </tbody>\n</table>\n<p>24435 rows × 26 columns</p>\n</div>"
     },
     "execution_count": 979,
     "metadata": {},
     "output_type": "execute_result"
    }
   ],
   "source": [
    "dataset[\"cb_person_default_on_file\"] = dataset[\"cb_person_default_on_file\"].replace([\"Y\"], 1)\n",
    "dataset[\"cb_person_default_on_file\"] = dataset[\"cb_person_default_on_file\"].replace([\"N\"], 0)\n",
    "dataset = pd.get_dummies(dataset)\n",
    "new_dataset = dataset.copy()\n",
    "new_dataset"
   ],
   "metadata": {
    "collapsed": false
   }
  },
  {
   "cell_type": "markdown",
   "source": [
    "We will remove the outliers form the non-categorical features. We will achieve this by computing the z-score of each column relative to the column mean and standard deviation."
   ],
   "metadata": {
    "collapsed": false
   }
  },
  {
   "cell_type": "code",
   "execution_count": 980,
   "outputs": [
    {
     "data": {
      "text/plain": "       person_age  person_income  person_emp_length  loan_amnt  loan_int_rate  \\\n0              41          40000                3.0       9200       7.490000   \n2              22          56000                0.0       7000      11.360000   \n3              24          45000                2.0       7200       7.290000   \n5              22          75000                6.0       5000       7.740000   \n6              23          42000                0.0      10000      11.006377   \n...           ...            ...                ...        ...            ...   \n24430          23          45000                7.0       9000      10.650000   \n24431          26         125000                3.0      24000      15.280000   \n24432          43         138000                4.0       9900       6.990000   \n24433          27          84780                5.0      18000       7.510000   \n24434          31          95000                2.0       2500      13.720000   \n\n       loan_status  loan_percent_income  cb_person_default_on_file  \\\n0                0                 0.23                          0   \n2                0                 0.13                          0   \n3                0                 0.16                          0   \n5                0                 0.07                          0   \n6                0                 0.24                          0   \n...            ...                  ...                        ...   \n24430            0                 0.20                          0   \n24431            0                 0.19                          1   \n24432            0                 0.07                          0   \n24433            0                 0.21                          0   \n24434            0                 0.03                          1   \n\n       cb_person_cred_hist_length  person_home_ownership_MORTGAGE  ...  \\\n0                              13                               0  ...   \n2                               2                               0  ...   \n3                               4                               1  ...   \n5                               4                               1  ...   \n6                               4                               0  ...   \n...                           ...                             ...  ...   \n24430                           2                               0  ...   \n24431                           4                               1  ...   \n24432                          14                               1  ...   \n24433                          10                               1  ...   \n24434                          10                               0  ...   \n\n       loan_intent_MEDICAL  loan_intent_PERSONAL  loan_intent_VENTURE  \\\n0                        0                     1                    0   \n2                        0                     0                    0   \n3                        0                     1                    0   \n5                        0                     0                    0   \n6                        1                     0                    0   \n...                    ...                   ...                  ...   \n24430                    0                     0                    0   \n24431                    0                     0                    0   \n24432                    0                     0                    0   \n24433                    0                     0                    1   \n24434                    0                     0                    0   \n\n       loan_grade_A  loan_grade_B  loan_grade_C  loan_grade_D  loan_grade_E  \\\n0                 1             0             0             0             0   \n2                 0             1             0             0             0   \n3                 1             0             0             0             0   \n5                 1             0             0             0             0   \n6                 0             1             0             0             0   \n...             ...           ...           ...           ...           ...   \n24430             0             1             0             0             0   \n24431             0             0             0             1             0   \n24432             1             0             0             0             0   \n24433             1             0             0             0             0   \n24434             0             0             1             0             0   \n\n       loan_grade_F  loan_grade_G  \n0                 0             0  \n2                 0             0  \n3                 0             0  \n5                 0             0  \n6                 0             0  \n...             ...           ...  \n24430             0             0  \n24431             0             0  \n24432             0             0  \n24433             0             0  \n24434             0             0  \n\n[20471 rows x 26 columns]",
      "text/html": "<div>\n<style scoped>\n    .dataframe tbody tr th:only-of-type {\n        vertical-align: middle;\n    }\n\n    .dataframe tbody tr th {\n        vertical-align: top;\n    }\n\n    .dataframe thead th {\n        text-align: right;\n    }\n</style>\n<table border=\"1\" class=\"dataframe\">\n  <thead>\n    <tr style=\"text-align: right;\">\n      <th></th>\n      <th>person_age</th>\n      <th>person_income</th>\n      <th>person_emp_length</th>\n      <th>loan_amnt</th>\n      <th>loan_int_rate</th>\n      <th>loan_status</th>\n      <th>loan_percent_income</th>\n      <th>cb_person_default_on_file</th>\n      <th>cb_person_cred_hist_length</th>\n      <th>person_home_ownership_MORTGAGE</th>\n      <th>...</th>\n      <th>loan_intent_MEDICAL</th>\n      <th>loan_intent_PERSONAL</th>\n      <th>loan_intent_VENTURE</th>\n      <th>loan_grade_A</th>\n      <th>loan_grade_B</th>\n      <th>loan_grade_C</th>\n      <th>loan_grade_D</th>\n      <th>loan_grade_E</th>\n      <th>loan_grade_F</th>\n      <th>loan_grade_G</th>\n    </tr>\n  </thead>\n  <tbody>\n    <tr>\n      <th>0</th>\n      <td>41</td>\n      <td>40000</td>\n      <td>3.0</td>\n      <td>9200</td>\n      <td>7.490000</td>\n      <td>0</td>\n      <td>0.23</td>\n      <td>0</td>\n      <td>13</td>\n      <td>0</td>\n      <td>...</td>\n      <td>0</td>\n      <td>1</td>\n      <td>0</td>\n      <td>1</td>\n      <td>0</td>\n      <td>0</td>\n      <td>0</td>\n      <td>0</td>\n      <td>0</td>\n      <td>0</td>\n    </tr>\n    <tr>\n      <th>2</th>\n      <td>22</td>\n      <td>56000</td>\n      <td>0.0</td>\n      <td>7000</td>\n      <td>11.360000</td>\n      <td>0</td>\n      <td>0.13</td>\n      <td>0</td>\n      <td>2</td>\n      <td>0</td>\n      <td>...</td>\n      <td>0</td>\n      <td>0</td>\n      <td>0</td>\n      <td>0</td>\n      <td>1</td>\n      <td>0</td>\n      <td>0</td>\n      <td>0</td>\n      <td>0</td>\n      <td>0</td>\n    </tr>\n    <tr>\n      <th>3</th>\n      <td>24</td>\n      <td>45000</td>\n      <td>2.0</td>\n      <td>7200</td>\n      <td>7.290000</td>\n      <td>0</td>\n      <td>0.16</td>\n      <td>0</td>\n      <td>4</td>\n      <td>1</td>\n      <td>...</td>\n      <td>0</td>\n      <td>1</td>\n      <td>0</td>\n      <td>1</td>\n      <td>0</td>\n      <td>0</td>\n      <td>0</td>\n      <td>0</td>\n      <td>0</td>\n      <td>0</td>\n    </tr>\n    <tr>\n      <th>5</th>\n      <td>22</td>\n      <td>75000</td>\n      <td>6.0</td>\n      <td>5000</td>\n      <td>7.740000</td>\n      <td>0</td>\n      <td>0.07</td>\n      <td>0</td>\n      <td>4</td>\n      <td>1</td>\n      <td>...</td>\n      <td>0</td>\n      <td>0</td>\n      <td>0</td>\n      <td>1</td>\n      <td>0</td>\n      <td>0</td>\n      <td>0</td>\n      <td>0</td>\n      <td>0</td>\n      <td>0</td>\n    </tr>\n    <tr>\n      <th>6</th>\n      <td>23</td>\n      <td>42000</td>\n      <td>0.0</td>\n      <td>10000</td>\n      <td>11.006377</td>\n      <td>0</td>\n      <td>0.24</td>\n      <td>0</td>\n      <td>4</td>\n      <td>0</td>\n      <td>...</td>\n      <td>1</td>\n      <td>0</td>\n      <td>0</td>\n      <td>0</td>\n      <td>1</td>\n      <td>0</td>\n      <td>0</td>\n      <td>0</td>\n      <td>0</td>\n      <td>0</td>\n    </tr>\n    <tr>\n      <th>...</th>\n      <td>...</td>\n      <td>...</td>\n      <td>...</td>\n      <td>...</td>\n      <td>...</td>\n      <td>...</td>\n      <td>...</td>\n      <td>...</td>\n      <td>...</td>\n      <td>...</td>\n      <td>...</td>\n      <td>...</td>\n      <td>...</td>\n      <td>...</td>\n      <td>...</td>\n      <td>...</td>\n      <td>...</td>\n      <td>...</td>\n      <td>...</td>\n      <td>...</td>\n      <td>...</td>\n    </tr>\n    <tr>\n      <th>24430</th>\n      <td>23</td>\n      <td>45000</td>\n      <td>7.0</td>\n      <td>9000</td>\n      <td>10.650000</td>\n      <td>0</td>\n      <td>0.20</td>\n      <td>0</td>\n      <td>2</td>\n      <td>0</td>\n      <td>...</td>\n      <td>0</td>\n      <td>0</td>\n      <td>0</td>\n      <td>0</td>\n      <td>1</td>\n      <td>0</td>\n      <td>0</td>\n      <td>0</td>\n      <td>0</td>\n      <td>0</td>\n    </tr>\n    <tr>\n      <th>24431</th>\n      <td>26</td>\n      <td>125000</td>\n      <td>3.0</td>\n      <td>24000</td>\n      <td>15.280000</td>\n      <td>0</td>\n      <td>0.19</td>\n      <td>1</td>\n      <td>4</td>\n      <td>1</td>\n      <td>...</td>\n      <td>0</td>\n      <td>0</td>\n      <td>0</td>\n      <td>0</td>\n      <td>0</td>\n      <td>0</td>\n      <td>1</td>\n      <td>0</td>\n      <td>0</td>\n      <td>0</td>\n    </tr>\n    <tr>\n      <th>24432</th>\n      <td>43</td>\n      <td>138000</td>\n      <td>4.0</td>\n      <td>9900</td>\n      <td>6.990000</td>\n      <td>0</td>\n      <td>0.07</td>\n      <td>0</td>\n      <td>14</td>\n      <td>1</td>\n      <td>...</td>\n      <td>0</td>\n      <td>0</td>\n      <td>0</td>\n      <td>1</td>\n      <td>0</td>\n      <td>0</td>\n      <td>0</td>\n      <td>0</td>\n      <td>0</td>\n      <td>0</td>\n    </tr>\n    <tr>\n      <th>24433</th>\n      <td>27</td>\n      <td>84780</td>\n      <td>5.0</td>\n      <td>18000</td>\n      <td>7.510000</td>\n      <td>0</td>\n      <td>0.21</td>\n      <td>0</td>\n      <td>10</td>\n      <td>1</td>\n      <td>...</td>\n      <td>0</td>\n      <td>0</td>\n      <td>1</td>\n      <td>1</td>\n      <td>0</td>\n      <td>0</td>\n      <td>0</td>\n      <td>0</td>\n      <td>0</td>\n      <td>0</td>\n    </tr>\n    <tr>\n      <th>24434</th>\n      <td>31</td>\n      <td>95000</td>\n      <td>2.0</td>\n      <td>2500</td>\n      <td>13.720000</td>\n      <td>0</td>\n      <td>0.03</td>\n      <td>1</td>\n      <td>10</td>\n      <td>0</td>\n      <td>...</td>\n      <td>0</td>\n      <td>0</td>\n      <td>0</td>\n      <td>0</td>\n      <td>0</td>\n      <td>1</td>\n      <td>0</td>\n      <td>0</td>\n      <td>0</td>\n      <td>0</td>\n    </tr>\n  </tbody>\n</table>\n<p>20471 rows × 26 columns</p>\n</div>"
     },
     "execution_count": 980,
     "metadata": {},
     "output_type": "execute_result"
    }
   ],
   "source": [
    "dataset = dataset[(np.abs(stats.zscore(dataset)) < 3).all(axis=1)]\n",
    "new_dataset = dataset.copy()\n",
    "new_dataset"
   ],
   "metadata": {
    "collapsed": false
   }
  },
  {
   "cell_type": "markdown",
   "source": [
    "Normalize the data. We will use the min max scalar."
   ],
   "metadata": {
    "collapsed": false
   }
  },
  {
   "cell_type": "code",
   "execution_count": 981,
   "outputs": [
    {
     "data": {
      "text/plain": "       person_age  person_income  person_emp_length  loan_amnt  loan_int_rate  \\\n0        0.807692       0.139268             0.1875   0.313514       0.158378   \n2        0.076923       0.201303             0.0000   0.234234       0.454476   \n3        0.153846       0.158654             0.1250   0.241441       0.143076   \n5        0.076923       0.274969             0.3750   0.162162       0.177506   \n6        0.115385       0.147022             0.0000   0.342342       0.427420   \n...           ...            ...                ...        ...            ...   \n24430    0.115385       0.158654             0.4375   0.306306       0.400153   \n24431    0.230769       0.468828             0.1875   0.846847       0.754399   \n24432    0.884615       0.519231             0.2500   0.338739       0.120122   \n24433    0.269231       0.312888             0.3125   0.630631       0.159908   \n24434    0.423077       0.352512             0.1250   0.072072       0.635042   \n\n       loan_status  loan_percent_income  cb_person_default_on_file  \\\n0                0             0.458333                          0   \n2                0             0.250000                          0   \n3                0             0.312500                          0   \n5                0             0.125000                          0   \n6                0             0.479167                          0   \n...            ...                  ...                        ...   \n24430            0             0.395833                          0   \n24431            0             0.375000                          1   \n24432            0             0.125000                          0   \n24433            0             0.416667                          0   \n24434            0             0.041667                          1   \n\n       cb_person_cred_hist_length  person_home_ownership_MORTGAGE  ...  \\\n0                        0.733333                               0  ...   \n2                        0.000000                               0  ...   \n3                        0.133333                               1  ...   \n5                        0.133333                               1  ...   \n6                        0.133333                               0  ...   \n...                           ...                             ...  ...   \n24430                    0.000000                               0  ...   \n24431                    0.133333                               1  ...   \n24432                    0.800000                               1  ...   \n24433                    0.533333                               1  ...   \n24434                    0.533333                               0  ...   \n\n       loan_intent_MEDICAL  loan_intent_PERSONAL  loan_intent_VENTURE  \\\n0                        0                     1                    0   \n2                        0                     0                    0   \n3                        0                     1                    0   \n5                        0                     0                    0   \n6                        1                     0                    0   \n...                    ...                   ...                  ...   \n24430                    0                     0                    0   \n24431                    0                     0                    0   \n24432                    0                     0                    0   \n24433                    0                     0                    1   \n24434                    0                     0                    0   \n\n       loan_grade_A  loan_grade_B  loan_grade_C  loan_grade_D  loan_grade_E  \\\n0                 1             0             0             0             0   \n2                 0             1             0             0             0   \n3                 1             0             0             0             0   \n5                 1             0             0             0             0   \n6                 0             1             0             0             0   \n...             ...           ...           ...           ...           ...   \n24430             0             1             0             0             0   \n24431             0             0             0             1             0   \n24432             1             0             0             0             0   \n24433             1             0             0             0             0   \n24434             0             0             1             0             0   \n\n       loan_grade_F  loan_grade_G  \n0                 0             0  \n2                 0             0  \n3                 0             0  \n5                 0             0  \n6                 0             0  \n...             ...           ...  \n24430             0             0  \n24431             0             0  \n24432             0             0  \n24433             0             0  \n24434             0             0  \n\n[20471 rows x 26 columns]",
      "text/html": "<div>\n<style scoped>\n    .dataframe tbody tr th:only-of-type {\n        vertical-align: middle;\n    }\n\n    .dataframe tbody tr th {\n        vertical-align: top;\n    }\n\n    .dataframe thead th {\n        text-align: right;\n    }\n</style>\n<table border=\"1\" class=\"dataframe\">\n  <thead>\n    <tr style=\"text-align: right;\">\n      <th></th>\n      <th>person_age</th>\n      <th>person_income</th>\n      <th>person_emp_length</th>\n      <th>loan_amnt</th>\n      <th>loan_int_rate</th>\n      <th>loan_status</th>\n      <th>loan_percent_income</th>\n      <th>cb_person_default_on_file</th>\n      <th>cb_person_cred_hist_length</th>\n      <th>person_home_ownership_MORTGAGE</th>\n      <th>...</th>\n      <th>loan_intent_MEDICAL</th>\n      <th>loan_intent_PERSONAL</th>\n      <th>loan_intent_VENTURE</th>\n      <th>loan_grade_A</th>\n      <th>loan_grade_B</th>\n      <th>loan_grade_C</th>\n      <th>loan_grade_D</th>\n      <th>loan_grade_E</th>\n      <th>loan_grade_F</th>\n      <th>loan_grade_G</th>\n    </tr>\n  </thead>\n  <tbody>\n    <tr>\n      <th>0</th>\n      <td>0.807692</td>\n      <td>0.139268</td>\n      <td>0.1875</td>\n      <td>0.313514</td>\n      <td>0.158378</td>\n      <td>0</td>\n      <td>0.458333</td>\n      <td>0</td>\n      <td>0.733333</td>\n      <td>0</td>\n      <td>...</td>\n      <td>0</td>\n      <td>1</td>\n      <td>0</td>\n      <td>1</td>\n      <td>0</td>\n      <td>0</td>\n      <td>0</td>\n      <td>0</td>\n      <td>0</td>\n      <td>0</td>\n    </tr>\n    <tr>\n      <th>2</th>\n      <td>0.076923</td>\n      <td>0.201303</td>\n      <td>0.0000</td>\n      <td>0.234234</td>\n      <td>0.454476</td>\n      <td>0</td>\n      <td>0.250000</td>\n      <td>0</td>\n      <td>0.000000</td>\n      <td>0</td>\n      <td>...</td>\n      <td>0</td>\n      <td>0</td>\n      <td>0</td>\n      <td>0</td>\n      <td>1</td>\n      <td>0</td>\n      <td>0</td>\n      <td>0</td>\n      <td>0</td>\n      <td>0</td>\n    </tr>\n    <tr>\n      <th>3</th>\n      <td>0.153846</td>\n      <td>0.158654</td>\n      <td>0.1250</td>\n      <td>0.241441</td>\n      <td>0.143076</td>\n      <td>0</td>\n      <td>0.312500</td>\n      <td>0</td>\n      <td>0.133333</td>\n      <td>1</td>\n      <td>...</td>\n      <td>0</td>\n      <td>1</td>\n      <td>0</td>\n      <td>1</td>\n      <td>0</td>\n      <td>0</td>\n      <td>0</td>\n      <td>0</td>\n      <td>0</td>\n      <td>0</td>\n    </tr>\n    <tr>\n      <th>5</th>\n      <td>0.076923</td>\n      <td>0.274969</td>\n      <td>0.3750</td>\n      <td>0.162162</td>\n      <td>0.177506</td>\n      <td>0</td>\n      <td>0.125000</td>\n      <td>0</td>\n      <td>0.133333</td>\n      <td>1</td>\n      <td>...</td>\n      <td>0</td>\n      <td>0</td>\n      <td>0</td>\n      <td>1</td>\n      <td>0</td>\n      <td>0</td>\n      <td>0</td>\n      <td>0</td>\n      <td>0</td>\n      <td>0</td>\n    </tr>\n    <tr>\n      <th>6</th>\n      <td>0.115385</td>\n      <td>0.147022</td>\n      <td>0.0000</td>\n      <td>0.342342</td>\n      <td>0.427420</td>\n      <td>0</td>\n      <td>0.479167</td>\n      <td>0</td>\n      <td>0.133333</td>\n      <td>0</td>\n      <td>...</td>\n      <td>1</td>\n      <td>0</td>\n      <td>0</td>\n      <td>0</td>\n      <td>1</td>\n      <td>0</td>\n      <td>0</td>\n      <td>0</td>\n      <td>0</td>\n      <td>0</td>\n    </tr>\n    <tr>\n      <th>...</th>\n      <td>...</td>\n      <td>...</td>\n      <td>...</td>\n      <td>...</td>\n      <td>...</td>\n      <td>...</td>\n      <td>...</td>\n      <td>...</td>\n      <td>...</td>\n      <td>...</td>\n      <td>...</td>\n      <td>...</td>\n      <td>...</td>\n      <td>...</td>\n      <td>...</td>\n      <td>...</td>\n      <td>...</td>\n      <td>...</td>\n      <td>...</td>\n      <td>...</td>\n      <td>...</td>\n    </tr>\n    <tr>\n      <th>24430</th>\n      <td>0.115385</td>\n      <td>0.158654</td>\n      <td>0.4375</td>\n      <td>0.306306</td>\n      <td>0.400153</td>\n      <td>0</td>\n      <td>0.395833</td>\n      <td>0</td>\n      <td>0.000000</td>\n      <td>0</td>\n      <td>...</td>\n      <td>0</td>\n      <td>0</td>\n      <td>0</td>\n      <td>0</td>\n      <td>1</td>\n      <td>0</td>\n      <td>0</td>\n      <td>0</td>\n      <td>0</td>\n      <td>0</td>\n    </tr>\n    <tr>\n      <th>24431</th>\n      <td>0.230769</td>\n      <td>0.468828</td>\n      <td>0.1875</td>\n      <td>0.846847</td>\n      <td>0.754399</td>\n      <td>0</td>\n      <td>0.375000</td>\n      <td>1</td>\n      <td>0.133333</td>\n      <td>1</td>\n      <td>...</td>\n      <td>0</td>\n      <td>0</td>\n      <td>0</td>\n      <td>0</td>\n      <td>0</td>\n      <td>0</td>\n      <td>1</td>\n      <td>0</td>\n      <td>0</td>\n      <td>0</td>\n    </tr>\n    <tr>\n      <th>24432</th>\n      <td>0.884615</td>\n      <td>0.519231</td>\n      <td>0.2500</td>\n      <td>0.338739</td>\n      <td>0.120122</td>\n      <td>0</td>\n      <td>0.125000</td>\n      <td>0</td>\n      <td>0.800000</td>\n      <td>1</td>\n      <td>...</td>\n      <td>0</td>\n      <td>0</td>\n      <td>0</td>\n      <td>1</td>\n      <td>0</td>\n      <td>0</td>\n      <td>0</td>\n      <td>0</td>\n      <td>0</td>\n      <td>0</td>\n    </tr>\n    <tr>\n      <th>24433</th>\n      <td>0.269231</td>\n      <td>0.312888</td>\n      <td>0.3125</td>\n      <td>0.630631</td>\n      <td>0.159908</td>\n      <td>0</td>\n      <td>0.416667</td>\n      <td>0</td>\n      <td>0.533333</td>\n      <td>1</td>\n      <td>...</td>\n      <td>0</td>\n      <td>0</td>\n      <td>1</td>\n      <td>1</td>\n      <td>0</td>\n      <td>0</td>\n      <td>0</td>\n      <td>0</td>\n      <td>0</td>\n      <td>0</td>\n    </tr>\n    <tr>\n      <th>24434</th>\n      <td>0.423077</td>\n      <td>0.352512</td>\n      <td>0.1250</td>\n      <td>0.072072</td>\n      <td>0.635042</td>\n      <td>0</td>\n      <td>0.041667</td>\n      <td>1</td>\n      <td>0.533333</td>\n      <td>0</td>\n      <td>...</td>\n      <td>0</td>\n      <td>0</td>\n      <td>0</td>\n      <td>0</td>\n      <td>0</td>\n      <td>1</td>\n      <td>0</td>\n      <td>0</td>\n      <td>0</td>\n      <td>0</td>\n    </tr>\n  </tbody>\n</table>\n<p>20471 rows × 26 columns</p>\n</div>"
     },
     "execution_count": 981,
     "metadata": {},
     "output_type": "execute_result"
    }
   ],
   "source": [
    "scaler = MinMaxScaler()\n",
    "columns = [\"person_age\", \"person_income\", \"person_emp_length\", \"loan_amnt\", \"loan_int_rate\", \"loan_percent_income\",\n",
    "           \"cb_person_cred_hist_length\"]\n",
    "dataset[columns] = scaler.fit_transform(dataset[columns])\n",
    "dataset"
   ],
   "metadata": {
    "collapsed": false
   }
  },
  {
   "cell_type": "markdown",
   "source": [
    "We then need to split the training and testing data from the dataset using sklearn"
   ],
   "metadata": {
    "collapsed": false
   }
  },
  {
   "cell_type": "code",
   "execution_count": 982,
   "outputs": [],
   "source": [
    "target_dataset = dataset['cb_person_default_on_file']\n",
    "dataset.drop('cb_person_default_on_file', inplace=True, axis=1)\n",
    "train_feature_dataset, test_feature_dataset, train_label_dataset, test_label_dataset = train_test_split(dataset, target_dataset, test_size=0.2)"
   ],
   "metadata": {
    "collapsed": false
   }
  },
  {
   "cell_type": "markdown",
   "source": [
    "Run Naive Bayes, Decision Tree and KNN on the dataset"
   ],
   "metadata": {
    "collapsed": false
   }
  },
  {
   "cell_type": "markdown",
   "source": [
    "# Multinomial Naiver Bayes"
   ],
   "metadata": {
    "collapsed": false
   }
  },
  {
   "cell_type": "code",
   "execution_count": 983,
   "outputs": [
    {
     "name": "stdout",
     "output_type": "stream",
     "text": [
      "MultinomialNB - Training Dataset Classification Report: \n",
      "               precision    recall  f1-score   support\n",
      "\n",
      "           0       0.93      0.87      0.90     13694\n",
      "           1       0.50      0.66      0.57      2682\n",
      "\n",
      "    accuracy                           0.84     16376\n",
      "   macro avg       0.72      0.77      0.74     16376\n",
      "weighted avg       0.86      0.84      0.85     16376\n",
      "\n",
      "MultinomialNB - Training Dataset Confusion Matrix: \n",
      " [[11960  1734]\n",
      " [  913  1769]] \n",
      "\n",
      "MultinomialNB - Test Dataset Classification Report: \n",
      "               precision    recall  f1-score   support\n",
      "\n",
      "           0       0.93      0.86      0.90      3438\n",
      "           1       0.49      0.68      0.57       657\n",
      "\n",
      "    accuracy                           0.83      4095\n",
      "   macro avg       0.71      0.77      0.73      4095\n",
      "weighted avg       0.86      0.83      0.84      4095\n",
      "\n",
      "MultinomialNB - Test Dataset Confusion Matrix: \n",
      " [[2969  469]\n",
      " [ 209  448]] \n",
      "\n"
     ]
    }
   ],
   "source": [
    "mnb = MultinomialNB()\n",
    "\n",
    "mnb = mnb.fit(train_feature_dataset, train_label_dataset)\n",
    "predicted_train_dataset_mnb = mnb.predict(train_feature_dataset)\n",
    "# print(\"MultinomialNB - Training Dataset: Number of mislabeled points out of a total %d points : %d\" % (\n",
    "# train_feature_dataset.shape[0], (train_label_dataset != predicted_train_dataset_mnb).sum()))\n",
    "# print(\"MultinomialNB - Training Dataset Accuracy:\",\n",
    "#       metrics.accuracy_score(train_label_dataset, predicted_train_dataset_mnb))\n",
    "print(\"MultinomialNB - Training Dataset Classification Report:\", \"\\n\", classification_report(train_label_dataset, predicted_train_dataset_mnb))\n",
    "print(\"MultinomialNB - Training Dataset Confusion Matrix:\", \"\\n\", confusion_matrix(train_label_dataset, predicted_train_dataset_mnb), \"\\n\")\n",
    "\n",
    "predicted_test_dataset_mnb = mnb.predict(test_feature_dataset)\n",
    "# print(\"MultinomialNB - Test Dataset: Number of mislabeled points out of a total %d points : %d\" % (\n",
    "# test_feature_dataset.shape[0], (test_label_dataset != predicted_test_dataset_mnb).sum()))\n",
    "# print(\"MultinomialNB - Test Dataset Accuracy:\", metrics.accuracy_score(test_label_dataset, predicted_test_dataset_mnb))\n",
    "print(\"MultinomialNB - Test Dataset Classification Report:\", \"\\n\", classification_report(test_label_dataset, predicted_test_dataset_mnb))\n",
    "print(\"MultinomialNB - Test Dataset Confusion Matrix:\", \"\\n\", confusion_matrix(test_label_dataset, predicted_test_dataset_mnb), \"\\n\")"
   ],
   "metadata": {
    "collapsed": false
   }
  },
  {
   "cell_type": "markdown",
   "source": [
    "# Gaussian Naive Bayes"
   ],
   "metadata": {
    "collapsed": false
   }
  },
  {
   "cell_type": "code",
   "execution_count": 984,
   "outputs": [
    {
     "name": "stdout",
     "output_type": "stream",
     "text": [
      "GaussianNB - Training Dataset Classification Report: \n",
      "               precision    recall  f1-score   support\n",
      "\n",
      "           0       1.00      0.81      0.89     13694\n",
      "           1       0.51      1.00      0.67      2682\n",
      "\n",
      "    accuracy                           0.84     16376\n",
      "   macro avg       0.75      0.90      0.78     16376\n",
      "weighted avg       0.92      0.84      0.86     16376\n",
      "\n",
      "GaussianNB - Training Dataset Confusion Matrix: \n",
      " [[11081  2613]\n",
      " [    0  2682]] \n",
      "\n",
      "GaussianNB - Test Dataset Classification Report: \n",
      "               precision    recall  f1-score   support\n",
      "\n",
      "           0       1.00      0.81      0.90      3438\n",
      "           1       0.50      1.00      0.67       657\n",
      "\n",
      "    accuracy                           0.84      4095\n",
      "   macro avg       0.75      0.91      0.78      4095\n",
      "weighted avg       0.92      0.84      0.86      4095\n",
      "\n",
      "GaussianNB - Test Dataset Confusion Matrix: \n",
      " [[2788  650]\n",
      " [   0  657]] \n",
      "\n"
     ]
    }
   ],
   "source": [
    "gnb = GaussianNB()\n",
    "gnb = gnb.fit(train_feature_dataset, train_label_dataset)\n",
    "predicted_train_dataset_gnb = gnb.predict(train_feature_dataset)\n",
    "# print(\"GaussianNB - Training Dataset: Number of mislabeled points out of a total %d points : %d\" % (\n",
    "# train_feature_dataset.shape[0], (train_label_dataset != predicted_train_dataset_gnb).sum()))\n",
    "# print(\"GaussianNB - Training Dataset Accuracy:\",\n",
    "#       metrics.accuracy_score(train_label_dataset, predicted_train_dataset_gnb), \"\\n\")\n",
    "print(\"GaussianNB - Training Dataset Classification Report:\", \"\\n\", classification_report(train_label_dataset, predicted_train_dataset_gnb))\n",
    "print(\"GaussianNB - Training Dataset Confusion Matrix:\", \"\\n\", confusion_matrix(train_label_dataset, predicted_train_dataset_gnb), \"\\n\")\n",
    "\n",
    "predicted_test_dataset_gnb = gnb.predict(test_feature_dataset)\n",
    "# print(\"GaussianNB - Test Dataset: Number of mislabeled points out of a total %d points : %d\" % (\n",
    "# test_feature_dataset.shape[0], (test_label_dataset != predicted_test_dataset_gnb).sum()))\n",
    "# print(\"GaussianNB - Test Dataset Accuracy:\", metrics.accuracy_score(test_label_dataset, predicted_test_dataset_gnb),\n",
    "#       \"\\n\")\n",
    "print(\"GaussianNB - Test Dataset Classification Report:\", \"\\n\", classification_report(test_label_dataset, predicted_test_dataset_gnb))\n",
    "print(\"GaussianNB - Test Dataset Confusion Matrix:\", \"\\n\", confusion_matrix(test_label_dataset, predicted_test_dataset_gnb), \"\\n\")"
   ],
   "metadata": {
    "collapsed": false
   }
  },
  {
   "cell_type": "markdown",
   "source": [
    "# Decision Tree"
   ],
   "metadata": {
    "collapsed": false
   }
  },
  {
   "cell_type": "code",
   "execution_count": 985,
   "outputs": [
    {
     "name": "stdout",
     "output_type": "stream",
     "text": [
      "DecisionTreeClassifier - Training Dataset Classification Report: \n",
      "               precision    recall  f1-score   support\n",
      "\n",
      "           0       1.00      1.00      1.00     13694\n",
      "           1       1.00      1.00      1.00      2682\n",
      "\n",
      "    accuracy                           1.00     16376\n",
      "   macro avg       1.00      1.00      1.00     16376\n",
      "weighted avg       1.00      1.00      1.00     16376\n",
      "\n",
      "DecisionTreeClassifier - Training Dataset Confusion Matrix: \n",
      " [[13694     0]\n",
      " [    7  2675]] \n",
      "\n",
      "DecisionTreeClassifier - Test Dataset Classification Report: \n",
      "               precision    recall  f1-score   support\n",
      "\n",
      "           0       0.90      0.91      0.90      3438\n",
      "           1       0.50      0.48      0.49       657\n",
      "\n",
      "    accuracy                           0.84      4095\n",
      "   macro avg       0.70      0.69      0.70      4095\n",
      "weighted avg       0.84      0.84      0.84      4095\n",
      "\n",
      "DecisionTreeClassifier - Test Dataset Confusion Matrix: \n",
      " [[3117  321]\n",
      " [ 342  315]] \n",
      "\n"
     ]
    }
   ],
   "source": [
    "clf = DecisionTreeClassifier()\n",
    "clf = clf.fit(train_feature_dataset, train_label_dataset)\n",
    "# tree.plot_tree(clf)\n",
    "predicted_train_dataset_dt = clf.predict(train_feature_dataset)\n",
    "# print(\"DecisionTreeClassifier - Train Dataset: Number of mislabeled points out of a total %d points : %d\" % (\n",
    "# train_feature_dataset.shape[0], (train_label_dataset != predicted_train_dataset_dt).sum()))\n",
    "# print(\"DecisionTreeClassifier - Train Dataset Accuracy:\",\n",
    "#       metrics.accuracy_score(train_label_dataset, predicted_train_dataset_dt), \"\\n\")\n",
    "print(\"DecisionTreeClassifier - Training Dataset Classification Report:\", \"\\n\", classification_report(train_label_dataset, predicted_train_dataset_dt))\n",
    "print(\"DecisionTreeClassifier - Training Dataset Confusion Matrix:\", \"\\n\", confusion_matrix(train_label_dataset, predicted_train_dataset_dt), \"\\n\")\n",
    "\n",
    "predicted_test_dataset_dt = clf.predict(test_feature_dataset)\n",
    "# print(\"DecisionTreeClassifier - Test Dataset: Number of mislabeled points out of a total %d points : %d\" % (\n",
    "# test_feature_dataset.shape[0], (test_label_dataset != predicted_test_dataset_dt).sum()))\n",
    "# print(\"DecisionTreeClassifier - Test Dataset Accuracy:\",\n",
    "#       metrics.accuracy_score(test_label_dataset, predicted_test_dataset_dt), \"\\n\")\n",
    "print(\"DecisionTreeClassifier - Test Dataset Classification Report:\", \"\\n\", classification_report(test_label_dataset, predicted_test_dataset_dt))\n",
    "print(\"DecisionTreeClassifier - Test Dataset Confusion Matrix:\", \"\\n\", confusion_matrix(test_label_dataset, predicted_test_dataset_dt), \"\\n\")"
   ],
   "metadata": {
    "collapsed": false
   }
  },
  {
   "cell_type": "markdown",
   "source": [
    "# KNN"
   ],
   "metadata": {
    "collapsed": false
   }
  },
  {
   "cell_type": "code",
   "execution_count": 1011,
   "outputs": [
    {
     "name": "stdout",
     "output_type": "stream",
     "text": [
      "KNeighborsClassifier - Train Dataset Classification Report: \n",
      "               precision    recall  f1-score   support\n",
      "\n",
      "           0       0.94      0.94      0.94     13704\n",
      "           1       0.70      0.70      0.70      2672\n",
      "\n",
      "    accuracy                           0.90     16376\n",
      "   macro avg       0.82      0.82      0.82     16376\n",
      "weighted avg       0.90      0.90      0.90     16376\n",
      "\n",
      "KNeighborsClassifier - Train Dataset Confusion Matrix: \n",
      " [[12890   814]\n",
      " [  805  1867]] \n",
      "\n",
      "KNeighborsClassifier - Test Dataset Classification Report: \n",
      "               precision    recall  f1-score   support\n",
      "\n",
      "           0       0.90      0.91      0.90      3428\n",
      "           1       0.51      0.50      0.50       667\n",
      "\n",
      "    accuracy                           0.84      4095\n",
      "   macro avg       0.70      0.70      0.70      4095\n",
      "weighted avg       0.84      0.84      0.84      4095\n",
      "\n",
      "KNeighborsClassifier - Test Dataset Confusion Matrix: \n",
      " [[3105  323]\n",
      " [ 335  332]] \n",
      "\n"
     ]
    }
   ],
   "source": [
    "k = 5\n",
    "# for k in range(2, 9):\n",
    "#     print(\"K value:\", k)\n",
    "neigh = KNeighborsClassifier(n_neighbors=k)\n",
    "neigh = neigh.fit(train_feature_dataset, train_label_dataset)\n",
    "\n",
    "predicted_train_dataset_knn = neigh.predict(train_feature_dataset)\n",
    "# print(\"KNeighborsClassifier - Train Dataset: Number of mislabeled points out of a total %d points : %d\" % (\n",
    "# train_feature_dataset.shape[0], (train_label_dataset != predicted_train_dataset_knn).sum()))\n",
    "# print(\"KNeighborsClassifier - Train Dataset Accuracy:\",\n",
    "#       metrics.accuracy_score(train_label_dataset, predicted_train_dataset_knn), \"\\n\")\n",
    "print(\"KNeighborsClassifier - Train Dataset Classification Report:\", \"\\n\", classification_report(train_label_dataset, predicted_train_dataset_knn))\n",
    "print(\"KNeighborsClassifier - Train Dataset Confusion Matrix:\", \"\\n\", confusion_matrix(train_label_dataset, predicted_train_dataset_knn), \"\\n\")\n",
    "\n",
    "predicted_test_dataset_knn = neigh.predict(test_feature_dataset)\n",
    "# print(\"KNeighborsClassifier - Test Dataset: Number of mislabeled points out of a total %d points : %d\" % (\n",
    "# test_feature_dataset.shape[0], (test_label_dataset != predicted_test_dataset_knn).sum()))\n",
    "# print(\"KNeighborsClassifier - Test Dataset Accuracy:\",\n",
    "#       metrics.accuracy_score(test_label_dataset, predicted_test_dataset_knn), \"\\n\")\n",
    "print(\"KNeighborsClassifier - Test Dataset Classification Report:\", \"\\n\", classification_report(test_label_dataset, predicted_test_dataset_knn))\n",
    "print(\"KNeighborsClassifier - Test Dataset Confusion Matrix:\", \"\\n\", confusion_matrix(test_label_dataset, predicted_test_dataset_knn), \"\\n\")"
   ],
   "metadata": {
    "collapsed": false
   }
  },
  {
   "cell_type": "markdown",
   "source": [
    "# New Dataset\n",
    "Predicting data using a new dataset.\n",
    "First we pre-process the new dataset for the trained model to understand."
   ],
   "metadata": {
    "collapsed": false
   }
  },
  {
   "cell_type": "code",
   "execution_count": 987,
   "outputs": [],
   "source": [
    "new_dataset = pd.read_csv('credit_risk_dataset.csv')\n",
    "\n",
    "person_emp_length_mean = new_dataset[\"person_emp_length\"].mean()\n",
    "loan_int_rate_mean = new_dataset[\"loan_int_rate\"].mean()\n",
    "new_dataset[\"person_emp_length\"].fillna(person_emp_length_mean, inplace=True)\n",
    "new_dataset[\"loan_int_rate\"].fillna(loan_int_rate_mean, inplace=True)\n",
    "\n",
    "new_dataset.drop(new_dataset.columns[new_dataset.columns.str.contains('unnamed', case=False)], axis=1, inplace=True)\n",
    "\n",
    "new_dataset[\"cb_person_default_on_file\"] = new_dataset[\"cb_person_default_on_file\"].replace([\"Y\"], 1)\n",
    "new_dataset[\"cb_person_default_on_file\"] = new_dataset[\"cb_person_default_on_file\"].replace([\"N\"], 0)\n",
    "new_dataset = pd.get_dummies(new_dataset)\n",
    "\n",
    "scaler = MinMaxScaler()\n",
    "columns = [\"person_age\", \"person_income\", \"person_emp_length\", \"loan_amnt\", \"loan_int_rate\", \"loan_percent_income\",\n",
    "           \"cb_person_cred_hist_length\"]\n",
    "new_dataset[columns] = scaler.fit_transform(new_dataset[columns])\n",
    "\n",
    "actual_labels = new_dataset[\"cb_person_default_on_file\"]\n",
    "features = new_dataset.drop([\"cb_person_default_on_file\"], axis=1)"
   ],
   "metadata": {
    "collapsed": false
   }
  },
  {
   "cell_type": "markdown",
   "source": [
    "# Multinomial Naive Bayes"
   ],
   "metadata": {
    "collapsed": false
   }
  },
  {
   "cell_type": "code",
   "execution_count": 988,
   "outputs": [
    {
     "name": "stdout",
     "output_type": "stream",
     "text": [
      "MultinomialNB - New Dataset Accuracy: 0.8253325148352773 \n",
      "\n",
      "MultinomialNB - New Dataset Classification Report: \n",
      "               precision    recall  f1-score   support\n",
      "\n",
      "           0       0.93      0.85      0.89     20120\n",
      "           1       0.50      0.72      0.59      4315\n",
      "\n",
      "    accuracy                           0.83     24435\n",
      "   macro avg       0.72      0.79      0.74     24435\n",
      "weighted avg       0.86      0.83      0.84     24435\n",
      "\n",
      "MultinomialNB - New Dataset Confusion Matrix: \n",
      " [[17040  3080]\n",
      " [ 1188  3127]] \n",
      "\n"
     ]
    },
    {
     "data": {
      "text/plain": "      actual predicted\n0          N         N\n1          N         N\n2          N         N\n3          N         N\n4          Y         Y\n...      ...       ...\n24430      N         N\n24431      Y         N\n24432      N         N\n24433      N         N\n24434      Y         Y\n\n[24435 rows x 2 columns]",
      "text/html": "<div>\n<style scoped>\n    .dataframe tbody tr th:only-of-type {\n        vertical-align: middle;\n    }\n\n    .dataframe tbody tr th {\n        vertical-align: top;\n    }\n\n    .dataframe thead th {\n        text-align: right;\n    }\n</style>\n<table border=\"1\" class=\"dataframe\">\n  <thead>\n    <tr style=\"text-align: right;\">\n      <th></th>\n      <th>actual</th>\n      <th>predicted</th>\n    </tr>\n  </thead>\n  <tbody>\n    <tr>\n      <th>0</th>\n      <td>N</td>\n      <td>N</td>\n    </tr>\n    <tr>\n      <th>1</th>\n      <td>N</td>\n      <td>N</td>\n    </tr>\n    <tr>\n      <th>2</th>\n      <td>N</td>\n      <td>N</td>\n    </tr>\n    <tr>\n      <th>3</th>\n      <td>N</td>\n      <td>N</td>\n    </tr>\n    <tr>\n      <th>4</th>\n      <td>Y</td>\n      <td>Y</td>\n    </tr>\n    <tr>\n      <th>...</th>\n      <td>...</td>\n      <td>...</td>\n    </tr>\n    <tr>\n      <th>24430</th>\n      <td>N</td>\n      <td>N</td>\n    </tr>\n    <tr>\n      <th>24431</th>\n      <td>Y</td>\n      <td>N</td>\n    </tr>\n    <tr>\n      <th>24432</th>\n      <td>N</td>\n      <td>N</td>\n    </tr>\n    <tr>\n      <th>24433</th>\n      <td>N</td>\n      <td>N</td>\n    </tr>\n    <tr>\n      <th>24434</th>\n      <td>Y</td>\n      <td>Y</td>\n    </tr>\n  </tbody>\n</table>\n<p>24435 rows × 2 columns</p>\n</div>"
     },
     "execution_count": 988,
     "metadata": {},
     "output_type": "execute_result"
    }
   ],
   "source": [
    "predicted_labels_mnb = mnb.predict(features)\n",
    "print(\"MultinomialNB - New Dataset Accuracy:\", metrics.accuracy_score(actual_labels, predicted_labels_mnb),\n",
    "      \"\\n\")\n",
    "print(\"MultinomialNB - New Dataset Classification Report:\", \"\\n\", classification_report(actual_labels, predicted_labels_mnb))\n",
    "print(\"MultinomialNB - New Dataset Confusion Matrix:\", \"\\n\", confusion_matrix(actual_labels, predicted_labels_mnb), \"\\n\")\n",
    "result = pd.DataFrame(columns = [\"actual\", \"predicted\"])\n",
    "result[\"actual\"] = actual_labels\n",
    "result[\"predicted\"] = predicted_labels_mnb\n",
    "result = result.replace([1], \"Y\")\n",
    "result = result.replace([0], \"N\")\n",
    "result"
   ],
   "metadata": {
    "collapsed": false
   }
  },
  {
   "cell_type": "markdown",
   "source": [
    "# Gaussian Naive Bayes"
   ],
   "metadata": {
    "collapsed": false
   }
  },
  {
   "cell_type": "code",
   "execution_count": 989,
   "outputs": [
    {
     "name": "stdout",
     "output_type": "stream",
     "text": [
      "GaussianNB - New Dataset Accuracy: 0.8276652342950686 \n",
      "\n",
      "GaussianNB - New Dataset Classification Report: \n",
      "               precision    recall  f1-score   support\n",
      "\n",
      "           0       1.00      0.79      0.88     20120\n",
      "           1       0.51      1.00      0.67      4315\n",
      "\n",
      "    accuracy                           0.83     24435\n",
      "   macro avg       0.75      0.90      0.78     24435\n",
      "weighted avg       0.91      0.83      0.85     24435\n",
      "\n",
      "GaussianNB - New Dataset Confusion Matrix: \n",
      " [[15909  4211]\n",
      " [    0  4315]] \n",
      "\n"
     ]
    },
    {
     "data": {
      "text/plain": "      actual predicted\n0          N         N\n1          N         N\n2          N         N\n3          N         N\n4          Y         Y\n...      ...       ...\n24430      N         N\n24431      Y         Y\n24432      N         N\n24433      N         N\n24434      Y         Y\n\n[24435 rows x 2 columns]",
      "text/html": "<div>\n<style scoped>\n    .dataframe tbody tr th:only-of-type {\n        vertical-align: middle;\n    }\n\n    .dataframe tbody tr th {\n        vertical-align: top;\n    }\n\n    .dataframe thead th {\n        text-align: right;\n    }\n</style>\n<table border=\"1\" class=\"dataframe\">\n  <thead>\n    <tr style=\"text-align: right;\">\n      <th></th>\n      <th>actual</th>\n      <th>predicted</th>\n    </tr>\n  </thead>\n  <tbody>\n    <tr>\n      <th>0</th>\n      <td>N</td>\n      <td>N</td>\n    </tr>\n    <tr>\n      <th>1</th>\n      <td>N</td>\n      <td>N</td>\n    </tr>\n    <tr>\n      <th>2</th>\n      <td>N</td>\n      <td>N</td>\n    </tr>\n    <tr>\n      <th>3</th>\n      <td>N</td>\n      <td>N</td>\n    </tr>\n    <tr>\n      <th>4</th>\n      <td>Y</td>\n      <td>Y</td>\n    </tr>\n    <tr>\n      <th>...</th>\n      <td>...</td>\n      <td>...</td>\n    </tr>\n    <tr>\n      <th>24430</th>\n      <td>N</td>\n      <td>N</td>\n    </tr>\n    <tr>\n      <th>24431</th>\n      <td>Y</td>\n      <td>Y</td>\n    </tr>\n    <tr>\n      <th>24432</th>\n      <td>N</td>\n      <td>N</td>\n    </tr>\n    <tr>\n      <th>24433</th>\n      <td>N</td>\n      <td>N</td>\n    </tr>\n    <tr>\n      <th>24434</th>\n      <td>Y</td>\n      <td>Y</td>\n    </tr>\n  </tbody>\n</table>\n<p>24435 rows × 2 columns</p>\n</div>"
     },
     "execution_count": 989,
     "metadata": {},
     "output_type": "execute_result"
    }
   ],
   "source": [
    "predicted_labels_gnb = gnb.predict(features)\n",
    "print(\"GaussianNB - New Dataset Accuracy:\", metrics.accuracy_score(actual_labels, predicted_labels_gnb),\n",
    "      \"\\n\")\n",
    "print(\"GaussianNB - New Dataset Classification Report:\", \"\\n\", classification_report(actual_labels, predicted_labels_gnb))\n",
    "print(\"GaussianNB - New Dataset Confusion Matrix:\", \"\\n\", confusion_matrix(actual_labels, predicted_labels_gnb), \"\\n\")\n",
    "result = pd.DataFrame(columns = [\"actual\", \"predicted\"])\n",
    "result[\"actual\"] = actual_labels\n",
    "result[\"predicted\"] = predicted_labels_gnb\n",
    "result = result.replace([1], \"Y\")\n",
    "result = result.replace([0], \"N\")\n",
    "result"
   ],
   "metadata": {
    "collapsed": false
   }
  },
  {
   "cell_type": "markdown",
   "source": [
    "# Decision Tree"
   ],
   "metadata": {
    "collapsed": false
   }
  },
  {
   "cell_type": "code",
   "execution_count": 990,
   "outputs": [
    {
     "name": "stdout",
     "output_type": "stream",
     "text": [
      "DecisionTreeClassifier - New Dataset Accuracy: 0.8239819930427665 \n",
      "\n",
      "DecisionTreeClassifier - New Dataset Classification Report: \n",
      "               precision    recall  f1-score   support\n",
      "\n",
      "           0       0.91      0.88      0.89     20120\n",
      "           1       0.50      0.58      0.54      4315\n",
      "\n",
      "    accuracy                           0.82     24435\n",
      "   macro avg       0.70      0.73      0.71     24435\n",
      "weighted avg       0.83      0.82      0.83     24435\n",
      "\n",
      "DecisionTreeClassifier - New Dataset Confusion Matrix: \n",
      " [[17645  2475]\n",
      " [ 1826  2489]] \n",
      "\n"
     ]
    },
    {
     "data": {
      "text/plain": "      actual predicted\n0          N         N\n1          N         N\n2          N         N\n3          N         N\n4          Y         Y\n...      ...       ...\n24430      N         N\n24431      Y         N\n24432      N         N\n24433      N         N\n24434      Y         Y\n\n[24435 rows x 2 columns]",
      "text/html": "<div>\n<style scoped>\n    .dataframe tbody tr th:only-of-type {\n        vertical-align: middle;\n    }\n\n    .dataframe tbody tr th {\n        vertical-align: top;\n    }\n\n    .dataframe thead th {\n        text-align: right;\n    }\n</style>\n<table border=\"1\" class=\"dataframe\">\n  <thead>\n    <tr style=\"text-align: right;\">\n      <th></th>\n      <th>actual</th>\n      <th>predicted</th>\n    </tr>\n  </thead>\n  <tbody>\n    <tr>\n      <th>0</th>\n      <td>N</td>\n      <td>N</td>\n    </tr>\n    <tr>\n      <th>1</th>\n      <td>N</td>\n      <td>N</td>\n    </tr>\n    <tr>\n      <th>2</th>\n      <td>N</td>\n      <td>N</td>\n    </tr>\n    <tr>\n      <th>3</th>\n      <td>N</td>\n      <td>N</td>\n    </tr>\n    <tr>\n      <th>4</th>\n      <td>Y</td>\n      <td>Y</td>\n    </tr>\n    <tr>\n      <th>...</th>\n      <td>...</td>\n      <td>...</td>\n    </tr>\n    <tr>\n      <th>24430</th>\n      <td>N</td>\n      <td>N</td>\n    </tr>\n    <tr>\n      <th>24431</th>\n      <td>Y</td>\n      <td>N</td>\n    </tr>\n    <tr>\n      <th>24432</th>\n      <td>N</td>\n      <td>N</td>\n    </tr>\n    <tr>\n      <th>24433</th>\n      <td>N</td>\n      <td>N</td>\n    </tr>\n    <tr>\n      <th>24434</th>\n      <td>Y</td>\n      <td>Y</td>\n    </tr>\n  </tbody>\n</table>\n<p>24435 rows × 2 columns</p>\n</div>"
     },
     "execution_count": 990,
     "metadata": {},
     "output_type": "execute_result"
    }
   ],
   "source": [
    "predicted_labels_dt = clf.predict(features)\n",
    "print(\"DecisionTreeClassifier - New Dataset Accuracy:\", metrics.accuracy_score(actual_labels, predicted_labels_dt),\n",
    "      \"\\n\")\n",
    "print(\"DecisionTreeClassifier - New Dataset Classification Report:\", \"\\n\", classification_report(actual_labels, predicted_labels_dt))\n",
    "print(\"DecisionTreeClassifier - New Dataset Confusion Matrix:\", \"\\n\", confusion_matrix(actual_labels, predicted_labels_dt), \"\\n\")\n",
    "result = pd.DataFrame(columns = [\"actual\", \"predicted\"])\n",
    "result[\"actual\"] = actual_labels\n",
    "result[\"predicted\"] = predicted_labels_dt\n",
    "result = result.replace([1], \"Y\")\n",
    "result = result.replace([0], \"N\")\n",
    "result"
   ],
   "metadata": {
    "collapsed": false
   }
  },
  {
   "cell_type": "markdown",
   "source": [
    "# KNN"
   ],
   "metadata": {
    "collapsed": false
   }
  },
  {
   "cell_type": "code",
   "execution_count": 991,
   "outputs": [
    {
     "name": "stdout",
     "output_type": "stream",
     "text": [
      "KNeighborsClassifier - New Dataset Accuracy: 0.8300798035604665 \n",
      "\n",
      "KNeighborsClassifier - New Dataset Classification Report: \n",
      "               precision    recall  f1-score   support\n",
      "\n",
      "           0       0.89      0.90      0.90     20120\n",
      "           1       0.52      0.48      0.50      4315\n",
      "\n",
      "    accuracy                           0.83     24435\n",
      "   macro avg       0.71      0.69      0.70     24435\n",
      "weighted avg       0.83      0.83      0.83     24435\n",
      "\n",
      "KNeighborsClassifier - New Dataset Confusion Matrix: \n",
      " [[18208  1912]\n",
      " [ 2240  2075]] \n",
      "\n"
     ]
    },
    {
     "data": {
      "text/plain": "      actual predicted\n0          N         N\n1          N         N\n2          N         N\n3          N         N\n4          Y         Y\n...      ...       ...\n24430      N         N\n24431      Y         N\n24432      N         N\n24433      N         N\n24434      Y         N\n\n[24435 rows x 2 columns]",
      "text/html": "<div>\n<style scoped>\n    .dataframe tbody tr th:only-of-type {\n        vertical-align: middle;\n    }\n\n    .dataframe tbody tr th {\n        vertical-align: top;\n    }\n\n    .dataframe thead th {\n        text-align: right;\n    }\n</style>\n<table border=\"1\" class=\"dataframe\">\n  <thead>\n    <tr style=\"text-align: right;\">\n      <th></th>\n      <th>actual</th>\n      <th>predicted</th>\n    </tr>\n  </thead>\n  <tbody>\n    <tr>\n      <th>0</th>\n      <td>N</td>\n      <td>N</td>\n    </tr>\n    <tr>\n      <th>1</th>\n      <td>N</td>\n      <td>N</td>\n    </tr>\n    <tr>\n      <th>2</th>\n      <td>N</td>\n      <td>N</td>\n    </tr>\n    <tr>\n      <th>3</th>\n      <td>N</td>\n      <td>N</td>\n    </tr>\n    <tr>\n      <th>4</th>\n      <td>Y</td>\n      <td>Y</td>\n    </tr>\n    <tr>\n      <th>...</th>\n      <td>...</td>\n      <td>...</td>\n    </tr>\n    <tr>\n      <th>24430</th>\n      <td>N</td>\n      <td>N</td>\n    </tr>\n    <tr>\n      <th>24431</th>\n      <td>Y</td>\n      <td>N</td>\n    </tr>\n    <tr>\n      <th>24432</th>\n      <td>N</td>\n      <td>N</td>\n    </tr>\n    <tr>\n      <th>24433</th>\n      <td>N</td>\n      <td>N</td>\n    </tr>\n    <tr>\n      <th>24434</th>\n      <td>Y</td>\n      <td>N</td>\n    </tr>\n  </tbody>\n</table>\n<p>24435 rows × 2 columns</p>\n</div>"
     },
     "execution_count": 991,
     "metadata": {},
     "output_type": "execute_result"
    }
   ],
   "source": [
    "predicted_labels_knn = neigh.predict(features)\n",
    "print(\"KNeighborsClassifier - New Dataset Accuracy:\", metrics.accuracy_score(actual_labels, predicted_labels_knn),\n",
    "      \"\\n\")\n",
    "print(\"KNeighborsClassifier - New Dataset Classification Report:\", \"\\n\", classification_report(actual_labels, predicted_labels_knn))\n",
    "print(\"KNeighborsClassifier - New Dataset Confusion Matrix:\", \"\\n\", confusion_matrix(actual_labels, predicted_labels_knn), \"\\n\")\n",
    "result = pd.DataFrame(columns = [\"actual\", \"predicted\"])\n",
    "result[\"actual\"] = actual_labels\n",
    "result[\"predicted\"] = predicted_labels_knn\n",
    "result = result.replace([1], \"Y\")\n",
    "result = result.replace([0], \"N\")\n",
    "result"
   ],
   "metadata": {
    "collapsed": false
   }
  }
 ],
 "metadata": {
  "kernelspec": {
   "name": "conda-root-py",
   "language": "python",
   "display_name": "Python [conda env:root] *"
  },
  "language_info": {
   "codemirror_mode": {
    "name": "ipython",
    "version": 2
   },
   "file_extension": ".py",
   "mimetype": "text/x-python",
   "name": "python",
   "nbconvert_exporter": "python",
   "pygments_lexer": "ipython2",
   "version": "2.7.6"
  }
 },
 "nbformat": 4,
 "nbformat_minor": 0
}
